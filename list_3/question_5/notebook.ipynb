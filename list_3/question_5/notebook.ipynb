{
 "cells": [
  {
   "cell_type": "markdown",
   "id": "152989e4",
   "metadata": {},
   "source": [
    "# GrowingNeuralGas"
   ]
  },
  {
   "cell_type": "markdown",
   "id": "9dab8f6d",
   "metadata": {},
   "source": [
    "Authors: \n",
    "  - [Morsinaldo de Azevedo Medeiros](https://github.com/Morsinaldo)\n",
    "  - [Thaís de Araújo de Medeiros](https://github.com/thaisaraujo2000)\n",
    "\n",
    "Adapted from [GUILLE, Adrien. Growing Neural Gas](https://github.com/AdrienGuille/GrowingNeuralGas)"
   ]
  },
  {
   "cell_type": "markdown",
   "id": "db4e6bf4",
   "metadata": {},
   "source": [
    "## Theoretical Foundation"
   ]
  },
  {
   "cell_type": "markdown",
   "id": "eac1478d",
   "metadata": {},
   "source": [
    "A Growing Neural Gas (GNG) é um algoritmo de aprendizado não supervisionado desenvolvido por Bernd Fritzke em 1994 em seu artigo [A Growing Neural Gas Network Learns Topologies](https://www.researchgate.net/publication/2428368_A_Growing_Neural_Gas_Network_Learns_Topologies). De forma geral, ele é uma extensão do modelo Neural Gas (NG) proposto por Thomas Martinetz, Klaus Schulten e Ernst-Jürgen Beyer em 1991 e é utilizado para realizar a clusterização de dados, ou seja, agrupar amostras similares em conjuntos.\n",
    "\n",
    "Seus conceitos são inspirados no crescimento de redes neuronais biológicas, ou seja, essas redes possuem a capacidade de se adaptar e crescer de forma incremental à medida que recebem mais informações. Dessa forma, a ideia central do GNG é construir um grafo que representa a topologia dos dados, onde cada nó do grafo representa um protótipo ou um centroide do cluster.\n",
    "\n",
    "<p align='center'>\n",
    "\n",
    "![alt tag](./images/gng.gif)\n",
    "\n",
    "</p>\n",
    "\n",
    "A construção do grafo começa com dois nós iniciais conectados por uma aresta. Em seguida, à medida que novos dados são apresentados ao algoritmo, os nós existentes são atualizados para se aproximarem dos dados, e novos nós são adicionados para capturar regiões do espaço de entrada ainda não representadas. A adição de novos nós é controlada com base em uma medida de erro, que indica a necessidade de expandir o grafo para melhor capturar as características dos dados.\n",
    "\n",
    "Durante a execução do algoritmo GNG, ocorrem dois tipos de atualizações: atualização de vencedor e atualização de vizinhos. A atualização de vencedor envolve a seleção do nó vencedor, ou seja, o nó mais próximo do dado de entrada, e a atualização desse nó para se aproximar ainda mais do dado. A atualização de vizinhos envolve a atualização dos nós vizinhos do nó vencedor para capturar as características dos dados próximos.\n",
    "\n",
    "À medida que o algoritmo progride, os nós menos importantes podem ser removidos do grafo com base em critérios pré-definidos, como a idade do nó (tempo desde a última atualização) ou a importância do nó em termos de erros acumulados. Isso permite que o grafo se adapte e seja capaz de lidar com mudanças na distribuição dos dados ao longo do tempo."
   ]
  },
  {
   "cell_type": "markdown",
   "id": "8361af33",
   "metadata": {},
   "source": [
    "## How to use"
   ]
  },
  {
   "cell_type": "markdown",
   "id": "2daa3596",
   "metadata": {},
   "source": [
    "Para executar este repositório, você pode criar um ambiente virtual utilizando o conda, por exemplo, com as bibliotecas do arquivo [environment.yml](./environment.yml) com o seguinte comando:\n",
    "\n",
    "```\n",
    "conda create -f environment.yml\n",
    "```\n",
    "\n",
    "Em seguida, ative o ambiente com o comando:\n",
    "\n",
    "```\n",
    "conda activate gng\n",
    "```\n",
    "\n",
    "Para utilizar a classe criada, basta apenas instaciar o objeto da classe `GrowingNeuralGas` e chamar o método `fit()`, como mostra o exemplo abaixo.\n",
    "Instantiate a GNG object with some data, then fit the neural network:\n",
    "```python\n",
    "from gng import GrowingNeuralGas\n",
    "gng = GrowingNeuralGas(data)\n",
    "gng.fit_network(e_b=0.1, e_n=0.006, a_max=10, l=200, a=0.5, d=0.995, passes=8, plot_evolution=True)\n",
    "```\n",
    "\n",
    "__Params:__\n",
    "- `e_b`: Taxa de aprendizado para mover a unidade mais próxima do vetor de entrada durante o treinamento. Ou seja, esse parâmetro indica o quanto o nó vencedor irá se mover em direção aos dados.\n",
    "- `e_n`: Taxa de aprendizado para mover as unidades vizinhas da unidade mais próxima do vetor de entrada durante o treinamento. Ou seja, esse parâmetro ele indica o quanto os nós vizinhos do nós vencedor irão se mover em direção aos dados.\n",
    "- `a_max`: Idade máxima de uma conexão na rede neural. Se a idade de uma conexão entre unidades exceder a_max, ela será removida durante o treinamento.\n",
    "- `l`: Parâmetro que determina a frequência de criação de novas unidades durante o treinamento. A cada `l` iterações, uma nova unidade pode ser inserida na rede neural.\n",
    "- `a`: Fator de redução da variável de erro das unidades vizinhas durante a criação de novas unidades.\n",
    "- `d`: Fator de redução da variável de erro de todas as unidades após cada iteração do treinamento.\n",
    "- `passes`: Número de iterações completas sobre o conjunto de dados de treinamento.\n",
    "- `plot_evolution`: Um valor booleano que indica se a evolução da rede neural deve ser plotada após cada criação de unidade."
   ]
  },
  {
   "cell_type": "markdown",
   "id": "99a12cf7",
   "metadata": {},
   "source": [
    "## Example"
   ]
  },
  {
   "cell_type": "markdown",
   "id": "dbc2d82b",
   "metadata": {},
   "source": [
    "Este exemplo mostra como você pode gerar um dataset sintético utilizando a bilbioteca do scikit-learn e treinar o modelo."
   ]
  },
  {
   "cell_type": "code",
   "execution_count": null,
   "id": "f123e574",
   "metadata": {},
   "outputs": [],
   "source": [
    "from gng import GrowingNeuralGas\n",
    "    from sklearn import datasets\n",
    "    from sklearn.preprocessing import StandardScaler\n",
    "    \n",
    "    print('Generating data...')\n",
    "    data = datasets.make_moons(n_samples=2000, noise=.05) \n",
    "    data = StandardScaler().fit_transform(data[0])\n",
    "    print('Done.')\n",
    "    print('Fitting neural network...')\n",
    "    gng = GrowingNeuralGas(data)\n",
    "    gng.fit_network(e_b=0.1, e_n=0.006, a_max=10, l=200, a=0.5, d=0.995, passes=8, plot_evolution=True)\n",
    "    print('Found %d clusters.' % gng.number_of_clusters())\n",
    "    gng.plot_clusters(gng.cluster_data())"
   ]
  },
  {
   "cell_type": "markdown",
   "id": "0d572eff",
   "metadata": {},
   "source": [
    "Rodando o arquivo [example.py](./example.py), você vai obter o seguinte resultado:\n",
    "\n",
    "    Preparing data...\n",
    "    Done.\n",
    "    Fitting neural network...\n",
    "       Pass #1\n",
    "       Pass #2\n",
    "       Pass #3\n",
    "       Pass #4\n",
    "       Pass #5\n",
    "       Pass #6\n",
    "       Pass #7\n",
    "       Pass #8\n",
    "    Found 2 clusters."
   ]
  },
  {
   "cell_type": "markdown",
   "id": "b2b2b142",
   "metadata": {},
   "source": [
    "### Clusters\n",
    "![alt tag](https://raw.githubusercontent.com/AdrienGuille/GrowingNeuralGas/visualization/clusters.png)\n",
    "\n",
    "### Network properties\n",
    "![alt tag](https://raw.githubusercontent.com/AdrienGuille/GrowingNeuralGas/visualization/network_properties.png)\n",
    "\n",
    "### Global error vs. number of passes\n",
    "![alt tag](https://raw.githubusercontent.com/AdrienGuille/GrowingNeuralGas/visualization/global_error.png)\n",
    "\n",
    "### Accumulated local error vs. total number of iterations\n",
    "![alt tag](https://raw.githubusercontent.com/AdrienGuille/GrowingNeuralGas/visualization/accumulated_local_error.png)\n",
    "\n",
    "### Video Moons\n",
    "[![Watch the video](./images/moons.png)](./videos/moons.mov)\n",
    "\n",
    "### Video Circles\n",
    "[![Watch the video](./images/circles.png)](./videos/circles.mov)"
   ]
  }
 ],
 "metadata": {
  "kernelspec": {
   "display_name": "Python 3 (ipykernel)",
   "language": "python",
   "name": "python3"
  },
  "language_info": {
   "codemirror_mode": {
    "name": "ipython",
    "version": 3
   },
   "file_extension": ".py",
   "mimetype": "text/x-python",
   "name": "python",
   "nbconvert_exporter": "python",
   "pygments_lexer": "ipython3",
   "version": "3.9.12"
  }
 },
 "nbformat": 4,
 "nbformat_minor": 5
}
